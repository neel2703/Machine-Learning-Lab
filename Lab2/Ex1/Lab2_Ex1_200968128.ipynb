{
 "cells": [
  {
   "cell_type": "code",
   "execution_count": 1,
   "id": "64a060ef",
   "metadata": {},
   "outputs": [],
   "source": [
    "import pandas as pd\n",
    "import numpy as np\n",
    "from sklearn.linear_model import LogisticRegression\n",
    "from sklearn import metrics\n",
    "from sklearn.model_selection import train_test_split\n",
    "from sklearn import preprocessing\n",
    "from sklearn.metrics import accuracy_score\n",
    "import matplotlib as plt\n",
    "import seaborn as sns\n",
    "%matplotlib inline"
   ]
  },
  {
   "cell_type": "code",
   "execution_count": 2,
   "id": "d74ebc77",
   "metadata": {},
   "outputs": [
    {
     "data": {
      "text/html": [
       "<div>\n",
       "<style scoped>\n",
       "    .dataframe tbody tr th:only-of-type {\n",
       "        vertical-align: middle;\n",
       "    }\n",
       "\n",
       "    .dataframe tbody tr th {\n",
       "        vertical-align: top;\n",
       "    }\n",
       "\n",
       "    .dataframe thead th {\n",
       "        text-align: right;\n",
       "    }\n",
       "</style>\n",
       "<table border=\"1\" class=\"dataframe\">\n",
       "  <thead>\n",
       "    <tr style=\"text-align: right;\">\n",
       "      <th></th>\n",
       "      <th>Pregnancies</th>\n",
       "      <th>Glucose</th>\n",
       "      <th>BloodPressure</th>\n",
       "      <th>SkinThickness</th>\n",
       "      <th>Insulin</th>\n",
       "      <th>BMI</th>\n",
       "      <th>DiabetesPedigreeFunction</th>\n",
       "      <th>Age</th>\n",
       "      <th>Outcome</th>\n",
       "    </tr>\n",
       "  </thead>\n",
       "  <tbody>\n",
       "    <tr>\n",
       "      <th>0</th>\n",
       "      <td>6</td>\n",
       "      <td>148</td>\n",
       "      <td>72</td>\n",
       "      <td>35</td>\n",
       "      <td>0</td>\n",
       "      <td>33.6</td>\n",
       "      <td>0.627</td>\n",
       "      <td>50</td>\n",
       "      <td>1</td>\n",
       "    </tr>\n",
       "    <tr>\n",
       "      <th>1</th>\n",
       "      <td>1</td>\n",
       "      <td>85</td>\n",
       "      <td>66</td>\n",
       "      <td>29</td>\n",
       "      <td>0</td>\n",
       "      <td>26.6</td>\n",
       "      <td>0.351</td>\n",
       "      <td>31</td>\n",
       "      <td>0</td>\n",
       "    </tr>\n",
       "    <tr>\n",
       "      <th>2</th>\n",
       "      <td>8</td>\n",
       "      <td>183</td>\n",
       "      <td>64</td>\n",
       "      <td>0</td>\n",
       "      <td>0</td>\n",
       "      <td>23.3</td>\n",
       "      <td>0.672</td>\n",
       "      <td>32</td>\n",
       "      <td>1</td>\n",
       "    </tr>\n",
       "    <tr>\n",
       "      <th>3</th>\n",
       "      <td>1</td>\n",
       "      <td>89</td>\n",
       "      <td>66</td>\n",
       "      <td>23</td>\n",
       "      <td>94</td>\n",
       "      <td>28.1</td>\n",
       "      <td>0.167</td>\n",
       "      <td>21</td>\n",
       "      <td>0</td>\n",
       "    </tr>\n",
       "    <tr>\n",
       "      <th>4</th>\n",
       "      <td>0</td>\n",
       "      <td>137</td>\n",
       "      <td>40</td>\n",
       "      <td>35</td>\n",
       "      <td>168</td>\n",
       "      <td>43.1</td>\n",
       "      <td>2.288</td>\n",
       "      <td>33</td>\n",
       "      <td>1</td>\n",
       "    </tr>\n",
       "    <tr>\n",
       "      <th>...</th>\n",
       "      <td>...</td>\n",
       "      <td>...</td>\n",
       "      <td>...</td>\n",
       "      <td>...</td>\n",
       "      <td>...</td>\n",
       "      <td>...</td>\n",
       "      <td>...</td>\n",
       "      <td>...</td>\n",
       "      <td>...</td>\n",
       "    </tr>\n",
       "    <tr>\n",
       "      <th>763</th>\n",
       "      <td>10</td>\n",
       "      <td>101</td>\n",
       "      <td>76</td>\n",
       "      <td>48</td>\n",
       "      <td>180</td>\n",
       "      <td>32.9</td>\n",
       "      <td>0.171</td>\n",
       "      <td>63</td>\n",
       "      <td>0</td>\n",
       "    </tr>\n",
       "    <tr>\n",
       "      <th>764</th>\n",
       "      <td>2</td>\n",
       "      <td>122</td>\n",
       "      <td>70</td>\n",
       "      <td>27</td>\n",
       "      <td>0</td>\n",
       "      <td>36.8</td>\n",
       "      <td>0.340</td>\n",
       "      <td>27</td>\n",
       "      <td>0</td>\n",
       "    </tr>\n",
       "    <tr>\n",
       "      <th>765</th>\n",
       "      <td>5</td>\n",
       "      <td>121</td>\n",
       "      <td>72</td>\n",
       "      <td>23</td>\n",
       "      <td>112</td>\n",
       "      <td>26.2</td>\n",
       "      <td>0.245</td>\n",
       "      <td>30</td>\n",
       "      <td>0</td>\n",
       "    </tr>\n",
       "    <tr>\n",
       "      <th>766</th>\n",
       "      <td>1</td>\n",
       "      <td>126</td>\n",
       "      <td>60</td>\n",
       "      <td>0</td>\n",
       "      <td>0</td>\n",
       "      <td>30.1</td>\n",
       "      <td>0.349</td>\n",
       "      <td>47</td>\n",
       "      <td>1</td>\n",
       "    </tr>\n",
       "    <tr>\n",
       "      <th>767</th>\n",
       "      <td>1</td>\n",
       "      <td>93</td>\n",
       "      <td>70</td>\n",
       "      <td>31</td>\n",
       "      <td>0</td>\n",
       "      <td>30.4</td>\n",
       "      <td>0.315</td>\n",
       "      <td>23</td>\n",
       "      <td>0</td>\n",
       "    </tr>\n",
       "  </tbody>\n",
       "</table>\n",
       "<p>768 rows × 9 columns</p>\n",
       "</div>"
      ],
      "text/plain": [
       "     Pregnancies  Glucose  BloodPressure  SkinThickness  Insulin   BMI  \\\n",
       "0              6      148             72             35        0  33.6   \n",
       "1              1       85             66             29        0  26.6   \n",
       "2              8      183             64              0        0  23.3   \n",
       "3              1       89             66             23       94  28.1   \n",
       "4              0      137             40             35      168  43.1   \n",
       "..           ...      ...            ...            ...      ...   ...   \n",
       "763           10      101             76             48      180  32.9   \n",
       "764            2      122             70             27        0  36.8   \n",
       "765            5      121             72             23      112  26.2   \n",
       "766            1      126             60              0        0  30.1   \n",
       "767            1       93             70             31        0  30.4   \n",
       "\n",
       "     DiabetesPedigreeFunction  Age  Outcome  \n",
       "0                       0.627   50        1  \n",
       "1                       0.351   31        0  \n",
       "2                       0.672   32        1  \n",
       "3                       0.167   21        0  \n",
       "4                       2.288   33        1  \n",
       "..                        ...  ...      ...  \n",
       "763                     0.171   63        0  \n",
       "764                     0.340   27        0  \n",
       "765                     0.245   30        0  \n",
       "766                     0.349   47        1  \n",
       "767                     0.315   23        0  \n",
       "\n",
       "[768 rows x 9 columns]"
      ]
     },
     "execution_count": 2,
     "metadata": {},
     "output_type": "execute_result"
    }
   ],
   "source": [
    "df = pd.read_csv('diabetes.csv')\n",
    "df"
   ]
  },
  {
   "cell_type": "markdown",
   "id": "c630c223",
   "metadata": {},
   "source": [
    "# 1. Use the “pima-indians-diabetes.csv” dataset and note down the meta information."
   ]
  },
  {
   "cell_type": "markdown",
   "id": "bf24cef4",
   "metadata": {},
   "source": [
    " ###  1. Title: Pima Indians Diabetes Database\n",
    "\n",
    " \n",
    "### 2. Sources:\n",
    "\n",
    "    (a) Original owners: National Institute of Diabetes and Digestive and\n",
    "\n",
    "                         Kidney Diseases\n",
    "\n",
    "    (b) Donor of database: Vincent Sigillito (vgs@aplcen.apl.jhu.edu)\n",
    "\n",
    "                           Research Center, RMI Group Leader\n",
    "\n",
    "                           Applied Physics Laboratory\n",
    "\n",
    "                           The Johns Hopkins University\n",
    "\n",
    "                           Johns Hopkins Road\n",
    "\n",
    "                           Laurel, MD 20707\n",
    "\n",
    "                           (301) 953-6231\n",
    "\n",
    "    (c) Date received: 9 May 1990\n",
    "\n",
    " \n",
    "\n",
    "### 3. Past Usage:\n",
    "\n",
    "     1. Smith,~J.~W., Everhart,~J.~E., Dickson,~W.~C., Knowler,~W.~C., \\&\n",
    "\n",
    "        Johannes,~R.~S. (1988). Using the ADAP learning algorithm to forecast\n",
    "\n",
    "        the onset of diabetes mellitus.  In {\\it Proceedings of the Symposium\n",
    "\n",
    "        on Computer Applications and Medical Care} (pp. 261--265).  IEEE\n",
    "\n",
    "        Computer Society Press.\n",
    "\n",
    " \n",
    "\n",
    "        The diagnostic, binary-valued variable investigated is whether the\n",
    "\n",
    "        patient shows signs of diabetes according to World Health Organization\n",
    "\n",
    "        criteria (i.e., if the 2 hour post-load plasma glucose was at least \n",
    "\n",
    "        200 mg/dl at any survey  examination or if found during routine medical\n",
    "\n",
    "        care).   The population lives near Phoenix, Arizona, USA.\n",
    "\n",
    " \n",
    "\n",
    "        Results: Their ADAP algorithm makes a real-valued prediction between\n",
    "\n",
    "        0 and 1.  This was transformed into a binary decision using a cutoff of \n",
    "\n",
    "        0.448.  Using 576 training instances, the sensitivity and specificity\n",
    "\n",
    "        of their algorithm was 76\n",
    " \n",
    "\n",
    "### 4. Relevant Information:\n",
    "\n",
    "       Several constraints were placed on the selection of these instances from\n",
    "\n",
    "       a larger database.  In particular, all patients here are females at\n",
    "\n",
    "       least 21 years old of Pima Indian heritage.  ADAP is an adaptive learning\n",
    "\n",
    "       routine that generates and executes digital analogs of perceptron-like\n",
    "\n",
    "       devices.  It is a unique algorithm; see the paper for details.\n",
    "\n",
    " \n",
    "\n",
    "### 5. Number of Instances: 768\n",
    "\n",
    " \n",
    "\n",
    "### 6. Number of Attributes: 8 plus class \n",
    "\n",
    " \n",
    "\n",
    "### 7. For Each Attribute: (all numeric-valued)\n",
    "\n",
    "    1. Number of times pregnant\n",
    "\n",
    "    2. Plasma glucose concentration a 2 hours in an oral glucose tolerance test\n",
    "\n",
    "    3. Diastolic blood pressure (mm Hg)\n",
    "\n",
    "    4. Triceps skin fold thickness (mm)\n",
    "\n",
    "    5. 2-Hour serum insulin (mu U/ml)\n",
    "\n",
    "    6. Body mass index (weight in kg/(height in m)^2)\n",
    "\n",
    "    7. Diabetes pedigree function\n",
    "\n",
    "    8. Age (years)\n",
    "\n",
    "    9. Class variable (0 or 1)\n",
    "\n",
    " \n",
    "\n",
    "### 8. Missing Attribute Values: None\n",
    "\n",
    " \n",
    "\n",
    "### 9. Class Distribution: (class value 1 is interpreted as \"tested positive for\n",
    "\n",
    "    diabetes\")\n",
    "\n",
    " \n",
    "\n",
    "    Class Value  Number of instances\n",
    "\n",
    "    0            500\n",
    "\n",
    "    1            268\n",
    "\n",
    " \n",
    "\n",
    "### 10. Brief statistical analysis:\n",
    "\n",
    " \n",
    "\n",
    "     Attribute number:    Mean:   Standard Deviation:\n",
    "\n",
    "     1.                     3.8     3.4\n",
    "\n",
    "     2.                   120.9    32.0\n",
    "\n",
    "     3.                    69.1    19.4\n",
    "\n",
    "     4.                    20.5    16.0\n",
    "\n",
    "     5.                    79.8   115.2\n",
    "\n",
    "     6.                    32.0     7.9\n",
    "\n",
    "     7.                     0.5     0.3\n",
    "\n",
    "     8.                    33.2    11.8\n",
    "\n",
    "\n",
    "### Relabeled values in attribute 'class'\n",
    "\n",
    "    From: 0                       To: tested_negative     \n",
    "\n",
    "    From: 1                       To: tested_positive\n"
   ]
  },
  {
   "cell_type": "markdown",
   "id": "992430cd",
   "metadata": {},
   "source": [
    "# 2. Compute mean & standard deviation , tabulate and visualize the age of the patients."
   ]
  },
  {
   "cell_type": "code",
   "execution_count": 3,
   "id": "c72840fc",
   "metadata": {},
   "outputs": [
    {
     "name": "stdout",
     "output_type": "stream",
     "text": [
      "Mean of age:  33.240885416666664\n",
      "Standard Deviation of age:  11.760231540678685\n"
     ]
    }
   ],
   "source": [
    "print('Mean of age: ', df['Age'].mean())\n",
    "print('Standard Deviation of age: ', df['Age'].std())"
   ]
  },
  {
   "cell_type": "code",
   "execution_count": 4,
   "id": "7aa2e893",
   "metadata": {},
   "outputs": [
    {
     "data": {
      "text/plain": [
       "<AxesSubplot:xlabel='Age', ylabel='Density'>"
      ]
     },
     "execution_count": 4,
     "metadata": {},
     "output_type": "execute_result"
    },
    {
     "data": {
      "image/png": "[encoded data removed]",
      "text/plain": [
       "<Figure size 432x288 with 1 Axes>"
      ]
     },
     "metadata": {
      "needs_background": "light"
     },
     "output_type": "display_data"
    }
   ],
   "source": [
    "sns.kdeplot(data = df.Age, color = 'green', shade = True)"
   ]
  },
  {
   "cell_type": "markdown",
   "id": "eed05ca9",
   "metadata": {},
   "source": [
    "# 3. Analyze and tabulate the relationship of age, BMI of patients with respect to the class."
   ]
  },
  {
   "cell_type": "code",
   "execution_count": 5,
   "id": "40d8bcda",
   "metadata": {},
   "outputs": [
    {
     "data": {
      "text/html": [
       "<div>\n",
       "<style scoped>\n",
       "    .dataframe tbody tr th:only-of-type {\n",
       "        vertical-align: middle;\n",
       "    }\n",
       "\n",
       "    .dataframe tbody tr th {\n",
       "        vertical-align: top;\n",
       "    }\n",
       "\n",
       "    .dataframe thead th {\n",
       "        text-align: right;\n",
       "    }\n",
       "</style>\n",
       "<table border=\"1\" class=\"dataframe\">\n",
       "  <thead>\n",
       "    <tr style=\"text-align: right;\">\n",
       "      <th></th>\n",
       "      <th>Outcome</th>\n",
       "      <th>0</th>\n",
       "      <th>1</th>\n",
       "    </tr>\n",
       "    <tr>\n",
       "      <th>Age</th>\n",
       "      <th>BMI</th>\n",
       "      <th></th>\n",
       "      <th></th>\n",
       "    </tr>\n",
       "  </thead>\n",
       "  <tbody>\n",
       "    <tr>\n",
       "      <th rowspan=\"5\" valign=\"top\">21</th>\n",
       "      <th>0.0</th>\n",
       "      <td>3</td>\n",
       "      <td>0</td>\n",
       "    </tr>\n",
       "    <tr>\n",
       "      <th>18.2</th>\n",
       "      <td>2</td>\n",
       "      <td>0</td>\n",
       "    </tr>\n",
       "    <tr>\n",
       "      <th>19.1</th>\n",
       "      <td>1</td>\n",
       "      <td>0</td>\n",
       "    </tr>\n",
       "    <tr>\n",
       "      <th>21.0</th>\n",
       "      <td>1</td>\n",
       "      <td>0</td>\n",
       "    </tr>\n",
       "    <tr>\n",
       "      <th>21.8</th>\n",
       "      <td>2</td>\n",
       "      <td>0</td>\n",
       "    </tr>\n",
       "    <tr>\n",
       "      <th>...</th>\n",
       "      <th>...</th>\n",
       "      <td>...</td>\n",
       "      <td>...</td>\n",
       "    </tr>\n",
       "    <tr>\n",
       "      <th rowspan=\"2\" valign=\"top\">69</th>\n",
       "      <th>0.0</th>\n",
       "      <td>1</td>\n",
       "      <td>0</td>\n",
       "    </tr>\n",
       "    <tr>\n",
       "      <th>26.8</th>\n",
       "      <td>1</td>\n",
       "      <td>0</td>\n",
       "    </tr>\n",
       "    <tr>\n",
       "      <th>70</th>\n",
       "      <th>32.5</th>\n",
       "      <td>0</td>\n",
       "      <td>1</td>\n",
       "    </tr>\n",
       "    <tr>\n",
       "      <th>72</th>\n",
       "      <th>19.6</th>\n",
       "      <td>1</td>\n",
       "      <td>0</td>\n",
       "    </tr>\n",
       "    <tr>\n",
       "      <th>81</th>\n",
       "      <th>25.9</th>\n",
       "      <td>1</td>\n",
       "      <td>0</td>\n",
       "    </tr>\n",
       "  </tbody>\n",
       "</table>\n",
       "<p>708 rows × 2 columns</p>\n",
       "</div>"
      ],
      "text/plain": [
       "Outcome   0  1\n",
       "Age BMI       \n",
       "21  0.0   3  0\n",
       "    18.2  2  0\n",
       "    19.1  1  0\n",
       "    21.0  1  0\n",
       "    21.8  2  0\n",
       "...      .. ..\n",
       "69  0.0   1  0\n",
       "    26.8  1  0\n",
       "70  32.5  0  1\n",
       "72  19.6  1  0\n",
       "81  25.9  1  0\n",
       "\n",
       "[708 rows x 2 columns]"
      ]
     },
     "execution_count": 5,
     "metadata": {},
     "output_type": "execute_result"
    }
   ],
   "source": [
    "pd.crosstab([df['Age'],df['BMI']], df['Outcome'])"
   ]
  },
  {
   "cell_type": "markdown",
   "id": "c88b7c68",
   "metadata": {},
   "source": [
    "# 4. Tabulate the class label and comment on whether the classes are balanced."
   ]
  },
  {
   "cell_type": "code",
   "execution_count": 6,
   "id": "45c18252",
   "metadata": {},
   "outputs": [
    {
     "data": {
      "text/plain": [
       "0    500\n",
       "1    268\n",
       "Name: Outcome, dtype: int64"
      ]
     },
     "execution_count": 6,
     "metadata": {},
     "output_type": "execute_result"
    }
   ],
   "source": [
    "df['Outcome'].value_counts()"
   ]
  },
  {
   "cell_type": "markdown",
   "id": "599b936a",
   "metadata": {},
   "source": [
    ">We can clearly see that the classes are not balanced and the number of patients who tested positive are almost double of the number of patients who tested negative. "
   ]
  },
  {
   "cell_type": "markdown",
   "id": "354e0918",
   "metadata": {},
   "source": [
    "# 5. Use the data set to build a logistic regression model (using sklearn) and predict the class label. Divide the dataset into training and test set (70,30) using train_test_split method in sklearn. "
   ]
  },
  {
   "cell_type": "code",
   "execution_count": 7,
   "id": "75ef8344",
   "metadata": {},
   "outputs": [
    {
     "name": "stderr",
     "output_type": "stream",
     "text": [
      "c:\\Users\\91704\\AppData\\Local\\Programs\\Python\\Python310\\lib\\site-packages\\sklearn\\linear_model\\_logistic.py:814: ConvergenceWarning: lbfgs failed to converge (status=1):\n",
      "STOP: TOTAL NO. of ITERATIONS REACHED LIMIT.\n",
      "\n",
      "Increase the number of iterations (max_iter) or scale the data as shown in:\n",
      "    https://scikit-learn.org/stable/modules/preprocessing.html\n",
      "Please also refer to the documentation for alternative solver options:\n",
      "    https://scikit-learn.org/stable/modules/linear_model.html#logistic-regression\n",
      "  n_iter_i = _check_optimize_result(\n"
     ]
    }
   ],
   "source": [
    "x = df.drop(['Outcome'], axis=1)\n",
    "y = df['Outcome']\n",
    "x_train, x_test, y_train, y_test = train_test_split(x, y, test_size=0.3)\n",
    "\n",
    "regr = LogisticRegression().fit(x_train, y_train)\n",
    "y_pred = regr.predict(x_test)"
   ]
  },
  {
   "cell_type": "markdown",
   "id": "10dd1ce5",
   "metadata": {},
   "source": [
    "# 6. Use the test data set and evaluate the performance using a confusion matrix. Visualize the confusion matrix using a heat map"
   ]
  },
  {
   "cell_type": "code",
   "execution_count": 8,
   "id": "6e8c5b95",
   "metadata": {},
   "outputs": [
    {
     "name": "stdout",
     "output_type": "stream",
     "text": [
      "[[137  18]\n",
      " [ 32  44]]\n"
     ]
    },
    {
     "data": {
      "text/plain": [
       "<AxesSubplot:>"
      ]
     },
     "execution_count": 8,
     "metadata": {},
     "output_type": "execute_result"
    },
    {
     "data": {
      "image/png": "[encoded data removed]",
      "text/plain": [
       "<Figure size 432x288 with 2 Axes>"
      ]
     },
     "metadata": {
      "needs_background": "light"
     },
     "output_type": "display_data"
    }
   ],
   "source": [
    "conf_matrix = metrics.confusion_matrix(y_test, y_pred)\n",
    "print(conf_matrix)\n",
    "tn, fp, fn, tp = conf_matrix.ravel()\n",
    "sns.heatmap(conf_matrix, annot=True, linewidth=3)"
   ]
  },
  {
   "cell_type": "markdown",
   "id": "5552ce89",
   "metadata": {},
   "source": [
    "# 7. Compute accuracy rate, true positive and true negative rate and comment on the performance."
   ]
  },
  {
   "cell_type": "code",
   "execution_count": 9,
   "id": "1420d995",
   "metadata": {},
   "outputs": [
    {
     "name": "stdout",
     "output_type": "stream",
     "text": [
      "Accuracy of the logistic regression model is 78.35497835497836 %\n",
      "True Positive rate:  57.89473684210526 %\n",
      "True Negative rate:  88.38709677419355 %\n"
     ]
    }
   ],
   "source": [
    "print('Accuracy of the logistic regression model is', accuracy_score(y_test, y_pred)*100,'%')\n",
    "print('True Positive rate: ', str(tp*100/(tp+fn)), '%')\n",
    "print('True Negative rate: ', str(tn*100/(tn+fp)), '%')"
   ]
  },
  {
   "cell_type": "markdown",
   "id": "06e525c7",
   "metadata": {},
   "source": [
    "# 8. Visualize the ROC curve, and comment on the performance of the classifier."
   ]
  },
  {
   "cell_type": "code",
   "execution_count": 10,
   "id": "75fbaf39",
   "metadata": {},
   "outputs": [
    {
     "data": {
      "image/png": "[encoded data removed]",
      "text/plain": [
       "<Figure size 432x288 with 1 Axes>"
      ]
     },
     "metadata": {
      "needs_background": "light"
     },
     "output_type": "display_data"
    }
   ],
   "source": [
    "y_pred_proba = regr.predict_proba(x_test)[::, 1]\n",
    "fpr, tpr, _ = metrics.roc_curve(y_test, y_pred_proba)\n",
    "plt.pyplot.plot(fpr,tpr)\n",
    "plt.pyplot.ylabel('True Positive Rate')\n",
    "plt.pyplot.xlabel('False Positive Rate')\n",
    "plt.pyplot.show()"
   ]
  }
 ],
 "metadata": {
  "kernelspec": {
   "display_name": "Python 3.10.4 64-bit",
   "language": "python",
   "name": "python3"
  },
  "language_info": {
   "codemirror_mode": {
    "name": "ipython",
    "version": 3
   },
   "file_extension": ".py",
   "mimetype": "text/x-python",
   "name": "python",
   "nbconvert_exporter": "python",
   "pygments_lexer": "ipython3",
   "version": "3.10.4"
  },
  "vscode": {
   "interpreter": {
    "hash": "3d3907d7b7b6a0fcb038b5b948abe5a6dd916641045e7bdca9eaf9be7a8c87e6"
   }
  }
 },
 "nbformat": 4,
 "nbformat_minor": 5
}
